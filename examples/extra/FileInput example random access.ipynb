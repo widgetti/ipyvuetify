{
 "cells": [
  {
   "cell_type": "code",
   "execution_count": null,
   "metadata": {},
   "outputs": [],
   "source": [
    "import ipywidgets as widgets\n",
    "from ipyvuetify.extra import FileInput\n",
    "from IPython.display import Image\n",
    "import zipfile\n",
    "import random"
   ]
  },
  {
   "cell_type": "code",
   "execution_count": null,
   "metadata": {},
   "outputs": [],
   "source": [
    "# Download http://images.cocodataset.org/zips/val2017.zip and choose it in the FileInput below\n",
    "\n",
    "file_input = FileInput(show_progress=False,multiple=False)\n",
    "file_input"
   ]
  },
  {
   "cell_type": "code",
   "execution_count": null,
   "metadata": {},
   "outputs": [],
   "source": [
    "myfile = file_input.get_files()[0]\n",
    "myfile"
   ]
  },
  {
   "cell_type": "code",
   "execution_count": null,
   "metadata": {},
   "outputs": [],
   "source": [
    "archive = zipfile.ZipFile(myfile['file_obj'], 'r')\n",
    "listing = archive.namelist()\n",
    "listing"
   ]
  },
  {
   "cell_type": "code",
   "execution_count": null,
   "metadata": {},
   "outputs": [],
   "source": [
    "jpgs = [x for x in listing if x.endswith('jpg')]"
   ]
  },
  {
   "cell_type": "code",
   "execution_count": null,
   "metadata": {},
   "outputs": [],
   "source": [
    "image1 = archive.read(jpgs[random.randint(0, len(jpgs)-1)])\n",
    "Image(image1)"
   ]
  },
  {
   "cell_type": "code",
   "execution_count": null,
   "metadata": {},
   "outputs": [],
   "source": [
    "image = widgets.Image(format='jpg',)\n",
    "\n",
    "def load_rnd_image(*ignored):\n",
    "    show_progress=True\n",
    "    image.value = archive.read(jpgs[random.randint(0, len(jpgs)-1)])\n",
    "    show_progress=False\n",
    "    \n",
    "btn = widgets.Button(description='show random image')\n",
    "btn.on_click(load_rnd_image)\n",
    "\n",
    "widgets.VBox([widgets.Box([image]), btn])"
   ]
  },
  {
   "cell_type": "code",
   "execution_count": null,
   "metadata": {},
   "outputs": [],
   "source": [
    "print(f'Percentage of data read: {file_input.stats[0]/myfile[\"size\"]}%')"
   ]
  },
  {
   "cell_type": "code",
   "execution_count": null,
   "metadata": {},
   "outputs": [],
   "source": []
  }
 ],
 "metadata": {
  "kernelspec": {
   "display_name": "Python 3",
   "language": "python",
   "name": "python3"
  },
  "language_info": {
   "codemirror_mode": {
    "name": "ipython",
    "version": 3
   },
   "file_extension": ".py",
   "mimetype": "text/x-python",
   "name": "python",
   "nbconvert_exporter": "python",
   "pygments_lexer": "ipython3",
   "version": "3.7.8"
  }
 },
 "nbformat": 4,
 "nbformat_minor": 4
}
